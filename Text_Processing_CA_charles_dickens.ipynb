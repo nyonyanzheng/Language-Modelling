{
  "nbformat": 4,
  "nbformat_minor": 0,
  "metadata": {
    "colab": {
      "name": "Text Processing CA - charles dickens",
      "version": "0.3.2",
      "provenance": [],
      "collapsed_sections": []
    },
    "kernelspec": {
      "name": "python3",
      "display_name": "Python 3"
    },
    "accelerator": "GPU"
  },
  "cells": [
    {
      "metadata": {
        "id": "_0K4yBlYJIIM",
        "colab_type": "code",
        "colab": {}
      },
      "cell_type": "code",
      "source": [
        "# Check GPU on Google Colab\n",
        "# !nvidia-smi\n",
        "\n",
        "from IPython.display import Image\n",
        "from IPython.core.display import HTML\n",
        "\n",
        "from IPython.display import clear_output"
      ],
      "execution_count": 0,
      "outputs": []
    },
    {
      "metadata": {
        "id": "WJ1sBpzUJ2oV",
        "colab_type": "code",
        "outputId": "6b133a90-80cb-40be-fb7f-f19ddf9e84d1",
        "colab": {
          "base_uri": "https://localhost:8080/",
          "height": 120
        }
      },
      "cell_type": "code",
      "source": [
        "!pip3 install torch torchvision"
      ],
      "execution_count": 2,
      "outputs": [
        {
          "output_type": "stream",
          "text": [
            "Requirement already satisfied: torch in /usr/local/lib/python3.6/dist-packages (1.0.1.post2)\n",
            "Requirement already satisfied: torchvision in /usr/local/lib/python3.6/dist-packages (0.2.2.post3)\n",
            "Requirement already satisfied: numpy in /usr/local/lib/python3.6/dist-packages (from torchvision) (1.14.6)\n",
            "Requirement already satisfied: pillow>=4.1.1 in /usr/local/lib/python3.6/dist-packages (from torchvision) (4.1.1)\n",
            "Requirement already satisfied: six in /usr/local/lib/python3.6/dist-packages (from torchvision) (1.11.0)\n",
            "Requirement already satisfied: olefile in /usr/local/lib/python3.6/dist-packages (from pillow>=4.1.1->torchvision) (0.46)\n"
          ],
          "name": "stdout"
        }
      ]
    },
    {
      "metadata": {
        "id": "dldlEmHDKd0P",
        "colab_type": "code",
        "colab": {}
      },
      "cell_type": "code",
      "source": [
        "#import torch\n",
        "#torch.__version__\n",
        "#torch.cuda.is_available()"
      ],
      "execution_count": 0,
      "outputs": []
    },
    {
      "metadata": {
        "id": "Duo7zF-lKx4s",
        "colab_type": "code",
        "outputId": "aba7bb91-3b60-4687-fcc9-9439cd8c64dc",
        "colab": {
          "base_uri": "https://localhost:8080/",
          "height": 347
        }
      },
      "cell_type": "code",
      "source": [
        "!pip install -U gensim"
      ],
      "execution_count": 4,
      "outputs": [
        {
          "output_type": "stream",
          "text": [
            "Requirement already up-to-date: gensim in /usr/local/lib/python3.6/dist-packages (3.7.1)\n",
            "Requirement already satisfied, skipping upgrade: scipy>=0.18.1 in /usr/local/lib/python3.6/dist-packages (from gensim) (1.1.0)\n",
            "Requirement already satisfied, skipping upgrade: smart-open>=1.7.0 in /usr/local/lib/python3.6/dist-packages (from gensim) (1.8.0)\n",
            "Requirement already satisfied, skipping upgrade: six>=1.5.0 in /usr/local/lib/python3.6/dist-packages (from gensim) (1.11.0)\n",
            "Requirement already satisfied, skipping upgrade: numpy>=1.11.3 in /usr/local/lib/python3.6/dist-packages (from gensim) (1.14.6)\n",
            "Requirement already satisfied, skipping upgrade: boto>=2.32 in /usr/local/lib/python3.6/dist-packages (from smart-open>=1.7.0->gensim) (2.49.0)\n",
            "Requirement already satisfied, skipping upgrade: bz2file in /usr/local/lib/python3.6/dist-packages (from smart-open>=1.7.0->gensim) (0.98)\n",
            "Requirement already satisfied, skipping upgrade: requests in /usr/local/lib/python3.6/dist-packages (from smart-open>=1.7.0->gensim) (2.18.4)\n",
            "Requirement already satisfied, skipping upgrade: boto3 in /usr/local/lib/python3.6/dist-packages (from smart-open>=1.7.0->gensim) (1.9.115)\n",
            "Requirement already satisfied, skipping upgrade: urllib3<1.23,>=1.21.1 in /usr/local/lib/python3.6/dist-packages (from requests->smart-open>=1.7.0->gensim) (1.22)\n",
            "Requirement already satisfied, skipping upgrade: certifi>=2017.4.17 in /usr/local/lib/python3.6/dist-packages (from requests->smart-open>=1.7.0->gensim) (2019.3.9)\n",
            "Requirement already satisfied, skipping upgrade: chardet<3.1.0,>=3.0.2 in /usr/local/lib/python3.6/dist-packages (from requests->smart-open>=1.7.0->gensim) (3.0.4)\n",
            "Requirement already satisfied, skipping upgrade: idna<2.7,>=2.5 in /usr/local/lib/python3.6/dist-packages (from requests->smart-open>=1.7.0->gensim) (2.6)\n",
            "Requirement already satisfied, skipping upgrade: s3transfer<0.3.0,>=0.2.0 in /usr/local/lib/python3.6/dist-packages (from boto3->smart-open>=1.7.0->gensim) (0.2.0)\n",
            "Requirement already satisfied, skipping upgrade: botocore<1.13.0,>=1.12.115 in /usr/local/lib/python3.6/dist-packages (from boto3->smart-open>=1.7.0->gensim) (1.12.115)\n",
            "Requirement already satisfied, skipping upgrade: jmespath<1.0.0,>=0.7.1 in /usr/local/lib/python3.6/dist-packages (from boto3->smart-open>=1.7.0->gensim) (0.9.4)\n",
            "Requirement already satisfied, skipping upgrade: docutils>=0.10 in /usr/local/lib/python3.6/dist-packages (from botocore<1.13.0,>=1.12.115->boto3->smart-open>=1.7.0->gensim) (0.14)\n",
            "Requirement already satisfied, skipping upgrade: python-dateutil<3.0.0,>=2.1; python_version >= \"2.7\" in /usr/local/lib/python3.6/dist-packages (from botocore<1.13.0,>=1.12.115->boto3->smart-open>=1.7.0->gensim) (2.5.3)\n"
          ],
          "name": "stdout"
        }
      ]
    },
    {
      "metadata": {
        "id": "CE6nWOVVE2i-",
        "colab_type": "code",
        "outputId": "32dfd530-156e-4c1e-cdf3-73a5ce450ebd",
        "colab": {
          "base_uri": "https://localhost:8080/",
          "height": 69
        }
      },
      "cell_type": "code",
      "source": [
        "import nltk\n",
        "nltk.download(\"punkt\")"
      ],
      "execution_count": 5,
      "outputs": [
        {
          "output_type": "stream",
          "text": [
            "[nltk_data] Downloading package punkt to /root/nltk_data...\n",
            "[nltk_data]   Package punkt is already up-to-date!\n"
          ],
          "name": "stdout"
        },
        {
          "output_type": "execute_result",
          "data": {
            "text/plain": [
              "True"
            ]
          },
          "metadata": {
            "tags": []
          },
          "execution_count": 5
        }
      ]
    },
    {
      "metadata": {
        "id": "unSdGfunG1YW",
        "colab_type": "code",
        "colab": {}
      },
      "cell_type": "code",
      "source": [
        "from nltk import word_tokenize, sent_tokenize "
      ],
      "execution_count": 0,
      "outputs": []
    },
    {
      "metadata": {
        "id": "gyDbbFAHnESb",
        "colab_type": "code",
        "colab": {}
      },
      "cell_type": "code",
      "source": [
        "from collections import namedtuple\n",
        "\n",
        "import numpy as np\n",
        "from tqdm import tqdm\n",
        "\n",
        "import pandas as pd\n",
        "\n",
        "from gensim.corpora import Dictionary\n",
        "\n",
        "import torch\n",
        "from torch import nn, optim, tensor, autograd\n",
        "from torch.nn import functional as F\n",
        "from torch.utils.data import Dataset, DataLoader\n",
        "\n",
        "from torch.nn.utils.rnn import pack_padded_sequence, pad_packed_sequence\n",
        "\n",
        "device = 'cuda' if torch.cuda.is_available() else 'cpu'"
      ],
      "execution_count": 0,
      "outputs": []
    },
    {
      "metadata": {
        "id": "T-aKzjFXAE_c",
        "colab_type": "code",
        "outputId": "b961d649-f861-498f-d05e-337076df79b5",
        "colab": {
          "base_uri": "https://localhost:8080/",
          "height": 34
        }
      },
      "cell_type": "code",
      "source": [
        "import matplotlib.pyplot as plt\n",
        "import seaborn as sns\n",
        "\n",
        "sns.set_style(\"darkgrid\")\n",
        "sns.set(rc={'figure.figsize':(12, 8)})\n",
        "\n",
        "\n",
        "torch.manual_seed(42)"
      ],
      "execution_count": 8,
      "outputs": [
        {
          "output_type": "execute_result",
          "data": {
            "text/plain": [
              "<torch._C.Generator at 0x7faaf93e87d0>"
            ]
          },
          "metadata": {
            "tags": []
          },
          "execution_count": 8
        }
      ]
    },
    {
      "metadata": {
        "id": "82xws75gpAv6",
        "colab_type": "code",
        "colab": {}
      },
      "cell_type": "code",
      "source": [
        "import json"
      ],
      "execution_count": 0,
      "outputs": []
    },
    {
      "metadata": {
        "id": "0XoDB-J8Kdjd",
        "colab_type": "code",
        "colab": {}
      },
      "cell_type": "code",
      "source": [
        "# Read data\n",
        "# text = open('pickup_lines_all.txt', 'r', encoding = \"utf8\").read().splitlines()"
      ],
      "execution_count": 0,
      "outputs": []
    },
    {
      "metadata": {
        "id": "9UJTG8MJoWWO",
        "colab_type": "code",
        "colab": {}
      },
      "cell_type": "code",
      "source": [
        "text = open('1400-0-clean.txt', 'r', encoding = \"utf8\").read()"
      ],
      "execution_count": 0,
      "outputs": []
    },
    {
      "metadata": {
        "id": "uHG0dKDvDXY1",
        "colab_type": "code",
        "outputId": "6913785f-4558-486f-f297-e712b553dbd4",
        "colab": {
          "base_uri": "https://localhost:8080/",
          "height": 34
        }
      },
      "cell_type": "code",
      "source": [
        "text[0:5]"
      ],
      "execution_count": 12,
      "outputs": [
        {
          "output_type": "execute_result",
          "data": {
            "text/plain": [
              "'\\ufeffChap'"
            ]
          },
          "metadata": {
            "tags": []
          },
          "execution_count": 12
        }
      ]
    },
    {
      "metadata": {
        "id": "4wr2MOucN1A1",
        "colab_type": "code",
        "colab": {}
      },
      "cell_type": "code",
      "source": [
        "# Tokenize the text.\n",
        "tokenized_text = [list(map(str.lower, word_tokenize(word))) for word in sent_tokenize(text)]"
      ],
      "execution_count": 0,
      "outputs": []
    },
    {
      "metadata": {
        "id": "5Uqr9ULDaz28",
        "colab_type": "code",
        "colab": {}
      },
      "cell_type": "code",
      "source": [
        "class PickupLines(Dataset):\n",
        "    def __init__(self, texts):\n",
        "        self.texts = texts\n",
        "        \n",
        "        # Initialize the vocab \n",
        "        special_tokens = {'<pad>': 0, '<unk>':1, '<s>':2, '</s>':3}\n",
        "        self.vocab = Dictionary(texts)\n",
        "        self.vocab.patch_with_special_tokens(special_tokens)\n",
        "        \n",
        "        # Keep track of the vocab size.\n",
        "        self.vocab_size = len(self.vocab)\n",
        "        \n",
        "        # Keep track of how many data points.\n",
        "        self._len = len(texts)\n",
        "        \n",
        "        # Find the longest text in the data.\n",
        "        self.max_len = max(len(txt) for txt in texts) \n",
        "        \n",
        "    def __getitem__(self, index):\n",
        "        vectorized_sent = self.vectorize(self.texts[index])\n",
        "        x_len = len(vectorized_sent)\n",
        "        # To pad the sentence:\n",
        "        # Pad left = 0; Pad right = max_len - len of sent.\n",
        "        pad_dim = (0, self.max_len - len(vectorized_sent))\n",
        "        vectorized_sent = F.pad(vectorized_sent, pad_dim, 'constant')\n",
        "        return {'x':vectorized_sent[:-1], \n",
        "                'y':vectorized_sent[1:], \n",
        "                'x_len':x_len}\n",
        "    \n",
        "    def __len__(self):\n",
        "        return self._len\n",
        "    \n",
        "    def vectorize(self, tokens, start_idx=2, end_idx=3):\n",
        "        \"\"\"\n",
        "        :param tokens: Tokens that should be vectorized. \n",
        "        :type tokens: list(str)\n",
        "        \"\"\"\n",
        "        # See https://radimrehurek.com/gensim/corpora/dictionary.html#gensim.corpora.dictionary.Dictionary.doc2idx \n",
        "        # Lets just cast list of indices into torch tensors directly =)\n",
        "        \n",
        "        vectorized_sent = [start_idx] + self.vocab.doc2idx(tokens) + [end_idx]\n",
        "        return torch.tensor(vectorized_sent)\n",
        "    \n",
        "    def unvectorize(self, indices):\n",
        "        \"\"\"\n",
        "        :param indices: Converts the indices back to tokens.\n",
        "        :type tokens: list(int)\n",
        "        \"\"\"\n",
        "        return [self.vocab[i] for i in indices]"
      ],
      "execution_count": 0,
      "outputs": []
    },
    {
      "metadata": {
        "id": "f13lRuOKnHex",
        "colab_type": "code",
        "colab": {}
      },
      "cell_type": "code",
      "source": [
        "pickuplines_data = PickupLines(tokenized_text)"
      ],
      "execution_count": 0,
      "outputs": []
    },
    {
      "metadata": {
        "id": "dP0nevQY8C6a",
        "colab_type": "code",
        "outputId": "b9ca78c8-6d7f-4e41-8eff-d67d56fbd52c",
        "colab": {
          "base_uri": "https://localhost:8080/",
          "height": 34
        }
      },
      "cell_type": "code",
      "source": [
        "len(pickuplines_data.vocab)"
      ],
      "execution_count": 16,
      "outputs": [
        {
          "output_type": "execute_result",
          "data": {
            "text/plain": [
              "11787"
            ]
          },
          "metadata": {
            "tags": []
          },
          "execution_count": 16
        }
      ]
    },
    {
      "metadata": {
        "id": "XcWilYhO69oE",
        "colab_type": "code",
        "colab": {}
      },
      "cell_type": "code",
      "source": [
        "class Generator(nn.Module):\n",
        "    def __init__(self, vocab_size, embedding_size, hidden_size, num_layers):\n",
        "        super(Generator, self).__init__()\n",
        "\n",
        "        # Initialize the embedding layer with the \n",
        "        # - size of input (i.e. no. of words in input vocab)\n",
        "        # - no. of hidden nodes in the embedding layer\n",
        "        self.embedding = nn.Embedding(vocab_size, embedding_size, padding_idx=0)\n",
        "        \n",
        "        # Initialize the GRU with the \n",
        "        # - size of the input (i.e. embedding layer)\n",
        "        # - size of the hidden layer \n",
        "        self.gru = nn.GRU(embedding_size, hidden_size, num_layers, batch_first=True)\n",
        "        \n",
        "        # Initialize the \"classifier\" layer to map the RNN outputs\n",
        "        # to the vocabulary. Remember we need to -1 because the \n",
        "        # vectorized sentence we left out one token for both x and y:\n",
        "        # - size of hidden_size of the GRU output.\n",
        "        # - size of vocabulary\n",
        "        self.classifier = nn.Linear(hidden_size, vocab_size)\n",
        "        \n",
        "    def forward(self, inputs, use_softmax=False, hidden=None):\n",
        "        # Look up for the embeddings for the input word indices.\n",
        "        embedded = self.embedding(inputs)\n",
        "        # Put the embedded inputs into the GRU.\n",
        "        output, hidden = self.gru(embedded, hidden)\n",
        "        \n",
        "        # Matrix manipulation magic.\n",
        "        batch_size, sequence_len, hidden_size = output.shape\n",
        "        # Technically, linear layer takes a 2-D matrix as input, so more manipulation...\n",
        "        output = output.contiguous().view(batch_size * sequence_len, hidden_size)\n",
        "        # Apply dropout.\n",
        "        output = F.dropout(output, 0.5)\n",
        "        # Put it through the classifier\n",
        "        # And reshape it to [batch_size x sequence_len x vocab_size]\n",
        "        output = self.classifier(output).view(batch_size, sequence_len, -1)\n",
        "        \n",
        "        return (F.softmax(output,dim=2), hidden) if use_softmax else (output, hidden)\n",
        "        "
      ],
      "execution_count": 0,
      "outputs": []
    },
    {
      "metadata": {
        "id": "Qhz9HJkT-K3R",
        "colab_type": "code",
        "colab": {}
      },
      "cell_type": "code",
      "source": [
        "# Training routine.\n",
        "def train(num_epochs, dataloader, model, criterion, optimizer):\n",
        "    losses = []\n",
        "    plt.ion()\n",
        "    for _e in range(num_epochs):\n",
        "        for batch in tqdm(dataloader):\n",
        "            # Zero gradient.\n",
        "            optimizer.zero_grad()\n",
        "            x = batch['x'].to(device)\n",
        "            x_len = batch['x_len'].to(device)\n",
        "            y = batch['y'].to(device)\n",
        "            # Feed forward. \n",
        "            output, hidden = model(x, use_softmax=False)\n",
        "            # Compute loss:\n",
        "            # Shape of the `output` is [batch_size x sequence_len x vocab_size]\n",
        "            # Shape of `y` is [batch_size x sequence_len]\n",
        "            # CrossEntropyLoss expects `output` to be [batch_size x vocab_size x sequence_len]\n",
        "            _, prediction = torch.max(output, dim=2)\n",
        "            loss = criterion(output.permute(0, 2, 1), y)\n",
        "            loss.backward()\n",
        "            optimizer.step()\n",
        "            losses.append(loss.float().data)\n",
        "\n",
        "        clear_output(wait=True)\n",
        "        plt.plot(losses)\n",
        "        plt.pause(0.05)\n",
        "        print(\"number of epochs completed:\", _e)\n",
        "\n",
        "\n",
        "def initialize_data_model_optim_loss(hyperparams):\n",
        "    # Initialize the dataset and dataloader.\n",
        "    pickuplines_data = PickupLines(tokenized_text)\n",
        "    dataloader = DataLoader(dataset=pickuplines_data, \n",
        "                            batch_size=hyperparams.batch_size, \n",
        "                            shuffle=True)\n",
        "\n",
        "    # Loss function.\n",
        "    criterion = hyperparams.loss_func(ignore_index=pickuplines_data.vocab.token2id['<pad>'], \n",
        "                                      reduction='mean')\n",
        "\n",
        "    # Model.\n",
        "    model = Generator(len(pickuplines_data.vocab), hyperparams.embed_size, \n",
        "                      hyperparams.hidden_size, hyperparams.num_layers).to(device)\n",
        "\n",
        "    # Optimizer.\n",
        "    optimizer = hyperparams.optimizer(model.parameters(), lr=hyperparams.learning_rate)\n",
        "    \n",
        "    return dataloader, model, optimizer, criterion"
      ],
      "execution_count": 0,
      "outputs": []
    },
    {
      "metadata": {
        "id": "IsOzOyYo-O3I",
        "colab_type": "code",
        "colab": {}
      },
      "cell_type": "code",
      "source": [
        "def generate_example(model, temperature=1.0, max_len=100, hidden_state=None):\n",
        "    start_token, start_idx = '<s>', 2\n",
        "    # Start state.\n",
        "    inputs = torch.tensor(pickuplines_data.vocab.token2id[start_token]).unsqueeze(0).unsqueeze(0).to(device)\n",
        "\n",
        "    sentence = [start_token]\n",
        "    i = 0\n",
        "    while i < max_len and sentence[-1] not in ['</s>', '<pad>']:\n",
        "        i += 1\n",
        "        \n",
        "        embedded = model.embedding(inputs)\n",
        "        output, hidden_state = model.gru(embedded, hidden_state)\n",
        "\n",
        "        batch_size, sequence_len, hidden_size = output.shape\n",
        "        output = output.contiguous().view(batch_size * sequence_len, hidden_size)    \n",
        "        output = model.classifier(output).view(batch_size, sequence_len, -1).squeeze(0)\n",
        "        #_, prediction = torch.max(F.softmax(output, dim=2), dim=2)\n",
        "        \n",
        "        word_weights = output.div(temperature).exp().cpu()\n",
        "        if len(word_weights.shape) > 1:\n",
        "            word_weights = word_weights[-1] # Pick the last word.    \n",
        "        word_idx = torch.multinomial(word_weights, 1).view(-1)\n",
        "        \n",
        "        sentence.append(pickuplines_data.vocab[int(word_idx)])\n",
        "        \n",
        "        inputs = tensor([pickuplines_data.vocab.token2id[word] for word in sentence]).unsqueeze(0).to(device)\n",
        "    print(' '.join(sentence))"
      ],
      "execution_count": 0,
      "outputs": []
    },
    {
      "metadata": {
        "id": "wfGhFJlN-SdH",
        "colab_type": "code",
        "outputId": "36b29c6d-5350-4494-a152-c009bffb21f4",
        "colab": {
          "base_uri": "https://localhost:8080/",
          "height": 1061
        }
      },
      "cell_type": "code",
      "source": [
        "_hyper = ['embed_size', 'hidden_size', 'num_layers',\n",
        "          'loss_func', 'learning_rate', 'optimizer', 'batch_size']\n",
        "Hyperparams = namedtuple('Hyperparams', _hyper)\n",
        "\n",
        "hyperparams = Hyperparams(embed_size=500, hidden_size=1000, num_layers=2,\n",
        "                          loss_func=nn.CrossEntropyLoss,\n",
        "                          learning_rate=0.03, optimizer=optim.Adam, batch_size=128)\n",
        "\n",
        "dataloader, model, optimizer, criterion = initialize_data_model_optim_loss(hyperparams)\n",
        "\n",
        "train(100, dataloader, model, criterion, optimizer)"
      ],
      "execution_count": 20,
      "outputs": [
        {
          "output_type": "display_data",
          "data": {
            "image/png": "[encoded data removed]",
            "text/plain": [
              "<Figure size 864x576 with 1 Axes>"
            ]
          },
          "metadata": {
            "tags": []
          }
        },
        {
          "output_type": "stream",
          "text": [
            "\r  0%|          | 0/56 [00:00<?, ?it/s]"
          ],
          "name": "stderr"
        },
        {
          "output_type": "stream",
          "text": [
            "number of epochs completed: 23\n"
          ],
          "name": "stdout"
        },
        {
          "output_type": "stream",
          "text": [
            " 82%|████████▏ | 46/56 [01:26<00:18,  1.89s/it]"
          ],
          "name": "stderr"
        },
        {
          "output_type": "error",
          "ename": "KeyboardInterrupt",
          "evalue": "ignored",
          "traceback": [
            "\u001b[0;31m---------------------------------------------------------------------------\u001b[0m",
            "\u001b[0;31mKeyboardInterrupt\u001b[0m                         Traceback (most recent call last)",
            "\u001b[0;32m<ipython-input-20-98ee763b9b83>\u001b[0m in \u001b[0;36m<module>\u001b[0;34m()\u001b[0m\n\u001b[1;32m      9\u001b[0m \u001b[0mdataloader\u001b[0m\u001b[0;34m,\u001b[0m \u001b[0mmodel\u001b[0m\u001b[0;34m,\u001b[0m \u001b[0moptimizer\u001b[0m\u001b[0;34m,\u001b[0m \u001b[0mcriterion\u001b[0m \u001b[0;34m=\u001b[0m \u001b[0minitialize_data_model_optim_loss\u001b[0m\u001b[0;34m(\u001b[0m\u001b[0mhyperparams\u001b[0m\u001b[0;34m)\u001b[0m\u001b[0;34m\u001b[0m\u001b[0;34m\u001b[0m\u001b[0m\n\u001b[1;32m     10\u001b[0m \u001b[0;34m\u001b[0m\u001b[0m\n\u001b[0;32m---> 11\u001b[0;31m \u001b[0mtrain\u001b[0m\u001b[0;34m(\u001b[0m\u001b[0;36m100\u001b[0m\u001b[0;34m,\u001b[0m \u001b[0mdataloader\u001b[0m\u001b[0;34m,\u001b[0m \u001b[0mmodel\u001b[0m\u001b[0;34m,\u001b[0m \u001b[0mcriterion\u001b[0m\u001b[0;34m,\u001b[0m \u001b[0moptimizer\u001b[0m\u001b[0;34m)\u001b[0m\u001b[0;34m\u001b[0m\u001b[0;34m\u001b[0m\u001b[0m\n\u001b[0m",
            "\u001b[0;32m<ipython-input-18-75a940a1f56f>\u001b[0m in \u001b[0;36mtrain\u001b[0;34m(num_epochs, dataloader, model, criterion, optimizer)\u001b[0m\n\u001b[1;32m     17\u001b[0m             \u001b[0m_\u001b[0m\u001b[0;34m,\u001b[0m \u001b[0mprediction\u001b[0m \u001b[0;34m=\u001b[0m \u001b[0mtorch\u001b[0m\u001b[0;34m.\u001b[0m\u001b[0mmax\u001b[0m\u001b[0;34m(\u001b[0m\u001b[0moutput\u001b[0m\u001b[0;34m,\u001b[0m \u001b[0mdim\u001b[0m\u001b[0;34m=\u001b[0m\u001b[0;36m2\u001b[0m\u001b[0;34m)\u001b[0m\u001b[0;34m\u001b[0m\u001b[0;34m\u001b[0m\u001b[0m\n\u001b[1;32m     18\u001b[0m             \u001b[0mloss\u001b[0m \u001b[0;34m=\u001b[0m \u001b[0mcriterion\u001b[0m\u001b[0;34m(\u001b[0m\u001b[0moutput\u001b[0m\u001b[0;34m.\u001b[0m\u001b[0mpermute\u001b[0m\u001b[0;34m(\u001b[0m\u001b[0;36m0\u001b[0m\u001b[0;34m,\u001b[0m \u001b[0;36m2\u001b[0m\u001b[0;34m,\u001b[0m \u001b[0;36m1\u001b[0m\u001b[0;34m)\u001b[0m\u001b[0;34m,\u001b[0m \u001b[0my\u001b[0m\u001b[0;34m)\u001b[0m\u001b[0;34m\u001b[0m\u001b[0;34m\u001b[0m\u001b[0m\n\u001b[0;32m---> 19\u001b[0;31m             \u001b[0mloss\u001b[0m\u001b[0;34m.\u001b[0m\u001b[0mbackward\u001b[0m\u001b[0;34m(\u001b[0m\u001b[0;34m)\u001b[0m\u001b[0;34m\u001b[0m\u001b[0;34m\u001b[0m\u001b[0m\n\u001b[0m\u001b[1;32m     20\u001b[0m             \u001b[0moptimizer\u001b[0m\u001b[0;34m.\u001b[0m\u001b[0mstep\u001b[0m\u001b[0;34m(\u001b[0m\u001b[0;34m)\u001b[0m\u001b[0;34m\u001b[0m\u001b[0;34m\u001b[0m\u001b[0m\n\u001b[1;32m     21\u001b[0m             \u001b[0mlosses\u001b[0m\u001b[0;34m.\u001b[0m\u001b[0mappend\u001b[0m\u001b[0;34m(\u001b[0m\u001b[0mloss\u001b[0m\u001b[0;34m.\u001b[0m\u001b[0mfloat\u001b[0m\u001b[0;34m(\u001b[0m\u001b[0;34m)\u001b[0m\u001b[0;34m.\u001b[0m\u001b[0mdata\u001b[0m\u001b[0;34m)\u001b[0m\u001b[0;34m\u001b[0m\u001b[0;34m\u001b[0m\u001b[0m\n",
            "\u001b[0;32m/usr/local/lib/python3.6/dist-packages/torch/tensor.py\u001b[0m in \u001b[0;36mbackward\u001b[0;34m(self, gradient, retain_graph, create_graph)\u001b[0m\n\u001b[1;32m    100\u001b[0m                 \u001b[0mproducts\u001b[0m\u001b[0;34m.\u001b[0m \u001b[0mDefaults\u001b[0m \u001b[0mto\u001b[0m\u001b[0;31m \u001b[0m\u001b[0;31m`\u001b[0m\u001b[0;31m`\u001b[0m\u001b[0;32mFalse\u001b[0m\u001b[0;31m`\u001b[0m\u001b[0;31m`\u001b[0m\u001b[0;34m.\u001b[0m\u001b[0;34m\u001b[0m\u001b[0;34m\u001b[0m\u001b[0m\n\u001b[1;32m    101\u001b[0m         \"\"\"\n\u001b[0;32m--> 102\u001b[0;31m         \u001b[0mtorch\u001b[0m\u001b[0;34m.\u001b[0m\u001b[0mautograd\u001b[0m\u001b[0;34m.\u001b[0m\u001b[0mbackward\u001b[0m\u001b[0;34m(\u001b[0m\u001b[0mself\u001b[0m\u001b[0;34m,\u001b[0m \u001b[0mgradient\u001b[0m\u001b[0;34m,\u001b[0m \u001b[0mretain_graph\u001b[0m\u001b[0;34m,\u001b[0m \u001b[0mcreate_graph\u001b[0m\u001b[0;34m)\u001b[0m\u001b[0;34m\u001b[0m\u001b[0;34m\u001b[0m\u001b[0m\n\u001b[0m\u001b[1;32m    103\u001b[0m \u001b[0;34m\u001b[0m\u001b[0m\n\u001b[1;32m    104\u001b[0m     \u001b[0;32mdef\u001b[0m \u001b[0mregister_hook\u001b[0m\u001b[0;34m(\u001b[0m\u001b[0mself\u001b[0m\u001b[0;34m,\u001b[0m \u001b[0mhook\u001b[0m\u001b[0;34m)\u001b[0m\u001b[0;34m:\u001b[0m\u001b[0;34m\u001b[0m\u001b[0;34m\u001b[0m\u001b[0m\n",
            "\u001b[0;32m/usr/local/lib/python3.6/dist-packages/torch/autograd/__init__.py\u001b[0m in \u001b[0;36mbackward\u001b[0;34m(tensors, grad_tensors, retain_graph, create_graph, grad_variables)\u001b[0m\n\u001b[1;32m     88\u001b[0m     Variable._execution_engine.run_backward(\n\u001b[1;32m     89\u001b[0m         \u001b[0mtensors\u001b[0m\u001b[0;34m,\u001b[0m \u001b[0mgrad_tensors\u001b[0m\u001b[0;34m,\u001b[0m \u001b[0mretain_graph\u001b[0m\u001b[0;34m,\u001b[0m \u001b[0mcreate_graph\u001b[0m\u001b[0;34m,\u001b[0m\u001b[0;34m\u001b[0m\u001b[0;34m\u001b[0m\u001b[0m\n\u001b[0;32m---> 90\u001b[0;31m         allow_unreachable=True)  # allow_unreachable flag\n\u001b[0m\u001b[1;32m     91\u001b[0m \u001b[0;34m\u001b[0m\u001b[0m\n\u001b[1;32m     92\u001b[0m \u001b[0;34m\u001b[0m\u001b[0m\n",
            "\u001b[0;31mKeyboardInterrupt\u001b[0m: "
          ]
        }
      ]
    },
    {
      "metadata": {
        "id": "IT5TbUGeAcqa",
        "colab_type": "code",
        "colab": {
          "base_uri": "https://localhost:8080/",
          "height": 1757
        },
        "outputId": "0b7177bf-4596-40d4-c0ee-89a1b9620f12"
      },
      "cell_type": "code",
      "source": [
        "for _ in range(100):\n",
        "    generate_example(model)"
      ],
      "execution_count": 21,
      "outputs": [
        {
          "output_type": "stream",
          "text": [
            "<s> “ not my arms , and , , i have not the fire , and the piece until what had what politeness , i dropped very young , and the light , and pain , and he returned the eyes and , and the eyes , , after well , for them , sir , sir , and the gentlemen out , for for seeing that , for and always , then and , i possessed , for the action to make by last to a the leg , and , for the in in answer , and the ,\n",
            "<s> the better , , tried or and the forge in the wall for i could , for and the case , for me for what made , and in an for it. an come , unless i don for the table to for the breakfast to , i could your the world up , we ’ s for it , “ , and for to no both , to my heard last , for my terror was , and gave us , and the the leg to wopsle , , for her good , for my idea , because i\n",
            "<s> for the fire ; and after one as the way , for , and he ’ s the turnkey by your said me to nothing for the first , for , and and by you , for us to turn , and i couldn , and i saw the end in the world , for after i am , that , “ you for the convict ; , , the house in me , and , the wemmick , and much , and for by an said , and and then , we ain , for no face , --\n",
            "<s> the make you , and , and -- and face , for for by , a , and had not in a mind for the fire the soldiers came , and and your cool , and the death and white for the , these in up , and out , ” said by my stranger , , for tickler , and waited , to church , for an biddy , for more the out for them , for people dropped for an fire ain , and spread you , for the be and not read as her , and ,\n",
            "<s> appeared to the great hand , and , he knew the dress and which i am , and , for good , “ believe , the rise for the terror were the night and in because you dropped to be in the the chair , and had ’ s the leg , and he could i shall the same -- , for them , for for the other , you there , i thought in some hand , and there to i see the quite light , and for , in his head i were you until and your do\n",
            "<s> if the same , joe , said to your the pause to wemmick , , i went , and , were an wall , and and the women , and and the individual that , and done a , but biddy , he gave a brought in for it. until which the place upon not her life were , and i were in , for you , i were , , and after half , one his life , he took the little , and what for the other , and my eyes , , life has , he time\n",
            "<s> for by any had the arms , sir , and in , for the extraordinary understanding , , and the once , -- it miss the clerk , by a fire , anything , and told the glad by nothing for me , and , , said i life , for the , and go , and ( and up to for it , and , for the better , and we had the this ; between , and that , for the same man ; and holding her business to be and the i , for , for the\n",
            "<s> the better , and i were , and in the the face between and name to go and , for i could see , and and a lady , for trabb made the going , by the same head , and the direction for , the , that i made biddy , , for poor thing took the rest , for , that wind into and as the admission until an the fire , or for the table , and ’ s i , , and heard the face in , , after the action to in the young gave\n",
            "<s> “ here and for and for me , and the back , and i took very , and you resolved , and an front for some off and you were lady , the time , and , for not , i ’ s a man in scheme , and i tried , to as the understood to see them again , the up for the first in the terror , , and once for the case for i , when , -- and and little , for by brought for and the deserted -- and i just , -- for\n",
            "<s> holding soon low the action , for the latter , for that he would the jaggers did , for , and the room , , and the a for wemmick for your sister made the aged , and the only , and these wanted the fire to no ! and then , what i -- , for no were possessed , for the most white same , and we were the head , in by my sister , and that do up , -- for and no , for until i then , and the , for , and having\n",
            "<s> for my for and went , you in the ships to try , and the case , to i gave the an i , here i , poor you , and we could make them , for , and said to the society , and i could and miss the time , and stood , for upon her , , for him , -- “ why , for for the fire , and i saw the man , ” for we took me , “ in a part , to tell , for , ” i were another , and\n",
            "<s> and very corner , and either , for the black arms and the half , for the forge , for the cobwebs , and , and , for the fear ” said he had become her to do , and my seeing my nose to a waiter the hand , and lived and the table and the to , , and head , for it. the ships , and for he love , because for for them for myself to all in another , ” returned , and you could for those off the great there were the garden ,\n",
            "<s> i you , who i since us , and the this hand to be , i wanted , and for , for no , and and , for the end , the admission , for any , in the life , and , for me into , for the off in well , , for the letter , i said to be the good by , and after , for the minute i no reading , for the the blacksmith , for the gate to i were people , , , because , for them not you , , that\n",
            "<s> “ i has moment , and i , and to that were , for us , for me , and then fell i had the i wish , and up the fire then , , out and i see the not to the room , were in down into the clothes and last , for the the and were him he saw one , -- for the other for length the tide the part , and o , and knocked , and the shadow the time , for a ask your the case , , for me no after ,\n",
            "<s> ‘ for in this my black , and she were out , and greatly the the gate myself , as it , and me , no , and i took us , and i were , and part , looking , and as he , , , and and , -- for all right again , for the face , and in the sleeve and a most this good , and how , ” well , for for me out , and had for by the same bed ; for the eyes , as how , , ” said herbert\n",
            "<s> we were in a last , and ever then , and no power no , , for him in the fact , for the action and , for me for an , for up for a ghost were legs for the place in the and good , sir. ” said he and , and steady , and it , and and your convict , for him , for the single the the hand to be mr. jaggers , for a street this and my , , for the table , and the house , and the fire has since ,\n",
            "<s> for the gentleman , to us , i stood the same influence : and they , and , i wanted , i , and ) , for myself ? ” said i were , and we , i had told me , for in the village and looking , for the fire , and and by your wind , for , , the place in his arms , i saw and rain soon , the for me for the wall , for herbert were , i returned , for a , , and the same nose has two , ,\n",
            "<s> we could you ’ t do , and i in the mind , and pulled , for him , had no see me , , and the low , and , ? as i fell , and , and forgotten good , and the feet , for the question , i , and a little for it. ” said to my feet , and the better , and a liberty , for then , -- and , “ has become himself , for the stranger , said , and the world , and no , and , for i in\n",
            "<s> if an part , for the blacksmith , and i mr. i saw i mind the same power has the end , and i , and gave me , , and so , for wemmick , and the good , the other between ‘ i thought , the influence , as stood to bed , and i for the leg saying , said don in , which for , for the coach as my mind and for my “ , and , and , or , for not the walk , no and he , and i had told ,\n",
            "<s> -- and for the ’ heard to a not such going , and i returned overgrown , and for your doing , and the the hand , for the good no leg , and see for the name , and the leg , for , and had the there , , and , said and , and i says were the baby , for the last for the blaze , for the other read in couldn her for be the eye and the the to in last in , boy , i took the hand to the touch , said\n",
            "<s> it has went , and for him for his long the chair , were the mind miss take , which i believe , for the the clocks , i , as i could do i didn , , i , and for the table to nothing , joe , ” “ and for them to and had were the the , that the to my a , for , and , and the poor , for no white , “ , for it , i had me , and for and to be me , and the street another other\n",
            "<s> the biddy ; and his dropped , for often in the gate the , the the same , for herself for , said after the door , and often were the table , for the low life , -- and biddy , and the other i for the other , after them , for for the an air , for mr. jaggers biddy , for the has in , for the gentleman your hands for the world , for the a light to me , and , , for you saw , and the same hand came , for any\n",
            "<s> after the new the my heard , -- could the man , and for better , i thought the for i more to make my gentleman , , and my direction into us in my most believed , and the moment , for us to be held the he would this name like the influence , and coach , and not and , the a cool , i thought , , and that certainly and the house no this the the case , and fear , whether for the room i went good got once by the street , ,\n",
            "<s> though no my feet , because , and were , for the for my my , and good , for the world , and to mr. wopsle , for the same room , joe , -- and the wall , and me , and often out , and , , for the action , after the new the same black , , for ’ s character , and , for the wall , for me , for after years for the better wanted , and not for up , , the leg , and to the , for my time\n",
            "<s> for the time , for an room to a , and were his the leg , that people , , for and i and , mr. wopsle , -- well , and the point to the and were a room , for the a assurance , and i could do me , and see me , for for them , and , in the strength , in , the door to make ; and the low , and no for quite hand the the close for an said , the fire and women low , and the other , and\n",
            "<s> for her i you it , i thought , and so you and ‘ dark , and he saw a not i for the the question , ‘ make the ground , fell , and not , joe and the door upon the black other , ” for look , after that not the other , for the chimney the house , and , for a case , for by me , , and a true as if i said in a young feet the latter , i am he then , and biddy , and no in the good\n",
            "<s> for eyes , and your part , and dropped , and soon , and , the great , , were by the that wind room he , in the , for the table -- for not , ” said , and then , for sir , , for the good and to ‘ stuck , and ; for the rest , , for the hot , i not that bread , and i the , and not and , and world , and soon gave you , for , for the same for my effect , here say , it\n",
            "<s> for the , for , and in the hand to , and the same and the same , for the other and , for , and the man and in for up , for , and , said they to be the case , and the first , for the the black leg as not quite , for , and i pulled the same worse an light , he well , , , for for my feet , sir for the door , he made the action , you for the mind the good ’ s the mind , for\n",
            "<s> as he was me , and this , and for length and i , for an light , -- , and for upon the little soon , by the corner , said to it. for here , for him in an t , as for such the for the to the worse , as the time off for the other , for the question that as for me , and , returned the ghost , and , and well , ” said mr. pocket for your mind to for by for my no not ask the man , and the\n",
            "<s> and were , for not fell and the room , for for for me , for , and then have the room , be for the room , to be , and so i am my going , and gave me , the reading out , -- and no for my wanted to do the tide i couldn , for me and and him and me , for me , , for , and i rather , for the the same i little life that , , i , and the the lady , and sent the following in the\n",
            "<s> i have , i gave estella , biddy up by have nothing don , and i had the times to see by the manner that a worse , and did ) , and your own room to see me to be , to the action , and , for an way , for for her occasion and the no much , for the case , i i , fell , and sent the worse , us to ‘ for by not you never were , what , i fell , for the time , and , and , and poor\n",
            "<s> i heard , the first matter the soldiers my corner , and here that the , and the established , and nearly , and , as i to be , for holding it. ” i you , for , and a he had were this light , and heard the leg , and seemed the room to be a impression into his case him , and biddy , which you since this your ground , and them for wemmick , i love and not , for the same my own return , and for the action , and , and\n",
            "<s> said joe to , , biddy , and pleasant , i fell to you could the same a tide for out , biddy , because , i have low , had no for the face , and heard , and were to see me , i could ask all the corner , for the room , i , and the corner the mind , and the same room to the church , for , ” said the coach to , i ’ s never men , , and the action , for him , how them , and a find\n",
            "<s> for the same head , -- for it , it and an part , and his , and it , for the room up for the convict to come the mind in , and for your the until we were , i had the same , after me , for , some arms , i , for the dull and the long , because i heard the table in and , -- and her the me in the , for the aged , as by my read , for a dress , i heard the or no nose in the\n",
            "<s> i had , by ask my hand as you here , , and then them , -- and all the same countenance stuck up in , for an last , appeared ’ t the part , herself to first , and said , and then , and , or , and looking , “ said i could were , i could have much , because the a little effect to pip that , and , for for a light , for the manner , for me , and by his in the clothes and there , i don ; and\n",
            "<s> well until my room ? we were the ships , for my mark , they thought sir , for a i ’ ll you i again his men , -- and , and between the the wall , and i , for the fire , and the terrible head to i were , for your sister , and , -- and the for , i it the low , -- and the illness , to this , for for a , -- say in seeing a a poor and the chair , and had to make , the the legs\n",
            "<s> i knew the , for biddy , him that , if for , “ i , because by , for the clothes and them , , and for one , for my white for the lady , and my my hand , for be and we and much as not , to pocket , and the always , and , and what as said , in the and the a me , and , for then , and the arms , and and soon in , the good to be and that , for a man , , in his\n",
            "<s> don , for garden , and the room , after -- for to have tell , and then for the most , -- as i “ for ) , i fell , “ and so then , for him , and an black done -- , and , and i for , and i returned a , and the fire , to be your face , then , and then , and as for the ships , for the without behind the same , sir , to miss me the come or and drew the the him my little ,\n",
            "<s> chapter convict , for the other the -- for the leg , and that he ’ ll , for the see for the the young , and read , and the side and were to wopsle , for the sergeant into , and beat my said a blacksmith , and time , , and in the point , for all after i thought for his thing , for a a room , and the fire were and why would , and i knew , and , and an wopsle , had looking open , i know to -- for ,\n",
            "<s> the place , , for ever become the daughter who , and , for the mind , and had dropped , and then remained again before , fell to be sight , and the room my have soon the the action , for the man for , and he went , i could never were no , for such man , ” said and i couldn , the same , to all and had your mind up , by my , for her nose that , and , and for them ; it. ” said , and my sister ,\n",
            "<s> now to i were mind , but for to a man , and he for the , and , for where for drummle , and i have sure , and to the man , bending , and , for the counting-house up the light , and and never in the chimney , for , for a mind , -- , in the kitchen , to biddy , and the room -- i were , for for make we , ” which i am i wanted and we were upon to the her , for the same than between up a\n",
            "<s> “ some , and , sir , the the room to be an room , we , -- and another the waiter , and , love the room who for the place to an -- and , wemmick , because we were the wall for your pocket into an beautiful drummle the first out , and the coach , after the worse to , and looking , and the people that case and the point , this more in the worse in his , and the coach , and all be you be very , for the same head what\n",
            "<s> mr. havisham , for some that i , for one for the clothes , and then , and then believe , there , i , , , ” said the thing in a were we were short , -- i gave the case , , over which , and biddy , for after said street , i , for you after this for me , returned for the reading to you , and for a the great the my hand , and a much as we were them and , he had more , for my white the baby ,\n",
            "<s> for the tide in for since , after i , for the , for , for , for them , and then , i could you were , “ i were , ‘ , no , and i wish they in the a the place , the mind , and if the hand off and an thought , and took the other for the the door , i for fell upon a gate , -- ” what your her in your much the the or tide were , and little that , , for the long , and not ,\n",
            "<s> no the aged because the action , for not fell that fell , after stand all me , and we , for my soldiers has a him , for not and for for , and all never wanted , , and estella both , and part , that the door and ! ” said he lay and said i by the mind , and , for the first , and the same , for an answer , ” returned the white and , and , ” “ estella and for the money , for the eyes and a looking ,\n",
            "<s> i could never gave the told the low house as i thought took the action and for the room , for over the clothes to wopsle ’ s life that pocket too and thinking to him , a men , , ‘ you , and be , the same the love a i and good biddy the outside and in me up and heard the room , for my leg , and for , , because , for the as the life half , and the cold , and , until that gentlemen heard , , and the church ,\n",
            "<s> miss the aged for up in the same hand neither , and like , up this within an so for my landlord , the chap , i he like , or do herself , and , and me and mr. come , by again , and in the mouth , and it he , as and , for your sharp to to lay that a and , in the black , and walk for the and the an door , and no in the man , because well , and , and told the as much and , and and\n",
            "<s> i in the eye , and he often make , for people round the daylight and , for the same fell to and the fire , the walk , and i tried and , see i gave , and you upon it. ” said , for her , if i knew you made me the low other , i did for the low , and , joe , i knew the other , and her hands , , and i ; and then not for to we don ? into the same ; for my other , i could be\n",
            "<s> i were the part to i , i wrote , and i were to pocket , “ i saw in same low black for it. ” i returned the mind the fire were great eyes , for , and , for a gentleman there as , for me after the gate to be , -- and , and not , i don for you , , i went , sir , and see i i i , that , and an should for , and , the a new man , and eyes for these head , and have done\n",
            "<s> sitting , and this , for ‘ for my sister and i saw to the said ; for the the door , and threw the same nose i heard your the same following for it. and , walking are going as said for my gentleman and i said for them informed the knew , -- -- and an went , i came , for each , for the work into the windows , and in my life , for your , for us , and to be an after for i walked and your man , and them , as\n",
            "<s> for i heard , for the for my ear , and , for me a never never had dropped to often to my life , joe , and and , to to the for the , for it. ” said you more little word by we up , for , i heard , how he had into i ’ s and my man i thought mr. jaggers , the mind ‘ , as if , for your , , for , i wouldn i laid an reading , -- and their my head the thought , in in by up\n",
            "<s> one for me were the street ? ” i could the point for myself in the eye , and , , and i taken , and the bread there , for you were once , i thought down , and the true , that , or it were the good not , biddy , for a a same worse that reply much in the , sir , , the room for no thought no worse , for them , i had no i wish for me , because i see , what , for the see me to the stranger\n",
            "<s> if as he nodded , , for me ; and not wouldn , and , , and , sir the same place , for the top for the windows , i for a preparation -- and for , by he are the man , for my for them , said what for the churchyard the little brewery , said no , and and his thought no find in the hand -- , and , for him , for out , for i were the me , as i should , for me , i sent his the returned , --\n",
            "<s> won , you were call nothing , -- and and yet to bear that i said if not , for the boots , and i could go and my eyes , , and i wouldn , and then mr. jaggers , for the long , by your dreadful gave the leg , soon as i do for for in the to be more the the , and well to the head and and growing other than by the man , the eye , ‘ , for the for , if my fire and , and engaged , and the same\n",
            "<s> we may they heard , and thing in it. ” for i did you to make this action , as it , because for no all out and that for in his great thing , -- said , neither , for for the forge , for the fire , and door , for the end the to for a good , i , and by for them , here , and now ’ t you wanted , for his mind to for , and i , and gone , and , and i since am were , i made all\n",
            "<s> i then , and the part , for , for the gate for me , -- i corner , -- and , and you dropped , for the in the shop , and way , for you , and i , and i off the holding , because upon to he , or for my , for me , and , and the man , and be ; and we saw your question , , for that the point , for the , and you for me the the and , and , and then and pain to were black\n",
            "<s> i , for some taken to my black , i could , and not had the windows back to trabb , and no eye understanding , for the table that , and after the life , and , for , for the in your could be in the same face to could says to and ; -- and the staircase the time , and “ i heard , for the same thing until i reading the garden , and were i , and the into a worse , and looking and a jaggers wanted ’ s mr. wopsle , in\n",
            "<s> i in for the soldiers , i knew then -- for an , since i returned that really ! and a blow , for the question , i could if and for the the same black point , then as dropped , for the the door , and bed which me , to be , -- me to ear , and look , is , and the white , he had not the lady , -- for the room after the gentleman , for , and , in this for the new sent your breath answered as the , and\n",
            "<s> i shall have length , i , and i , i thought the daylight , for myself and and for me , and -- after he went , and the outside , and ‘ so , drew bear , and lay , and as he for them , and , for the the room , and air for me , for for i had them , for some room , he possessed , the little by the worst , to the said i said the time , he made a house , for an could had knew and we and\n",
            "<s> as the length , certainly , and i see the very , should pip , for some blacksmith or and them , -- the street , certainly were my room for her had , and i ’ t boy and the action , and white , for his good head after the question , i don to if you , and the blacksmith , were , and it , , and here to i to find , i , i want in the morning , and and , and , i said for him your life , the right ,\n",
            "<s> for , ‘ i were , in the appearance for for a corner and and that ’ t biddy myself by , and , and , and biddy , and had myself , i knew an your black time , as the length , , -- and in your occasion and , , , and i saw for her , and he , for the to the another -- for the judge or no influence , in the fire , for me for the daylight the leg , the it i were out , and the , i , --\n",
            "<s> then , for and one for that , for the tide , all your your , and the an garden , and the time , , in the joe , behind the corner again the ’ you , and not be it , and i , for , for me for the case back , and were an which i ; the same fire ? ” said and your said , and off , and , and the same same , and the most , , the an see we , for , and , and the sister , --\n",
            "<s> i fell and i that , for the time , and a corner in a them , and fell , for the same you and and the same point , for you you in the house that i gave the , wrapped that very up , no for a the gate , for and and the the face , for a new , you or -- and and says and part , joe , and , for the head , for that returned my i for the is had the him to them were , for a gentleman , and\n",
            "<s> and then , and i and how , which for to have am , by the street and estella , “ were that did , and the same , and what i followed the same subject , until i were so , for the that fell , and , because and quite heard drummle , and , and i didn and and , and the , , and gave for the good , i were the garden see the an wanted , and i to her , and the effect , and in heard and should me , -- and\n",
            "<s> made not new the two , and ’ t the world for them , and why took a little , and , then the power , and i , who for the coach , for your the said and went up for the , by good back , i got , , for me to for the white giv be into the the , and the landlord once , and new in the head , and for not made his , to the , for for the room , , for the gentleman to the daylight the windows , and\n",
            "<s> for the the gate , for the money , -- and in the door and and has , the and and , for my case , the end , and my face to the seen my room , for me , , for the secret biddy , and the business , and heard to find mr. be the come to herbert to such case in life , -- for , and by the same power to be for her , the fire up for not another and a , -- for a a leg , i could he lighted the\n",
            "<s> i has , for me to you , the feet , ” if i could ask the the man and and them , by tell me , i could tell not the charge , you and the some daylight went , and said i were the another , for ; ” , and the , , and , ‘ as the man , and i could for no took me the fear for us for for close these and as it , and do , , and the the question , said after , that were such , and ,\n",
            "<s> what we had the boots this , i should hubble dropped aloud the the in the black the doing and a out for the part , and , and no out to the , for for the back to the death had as -- and and mind , and i been the out , because repeated , i asked , for , “ the table and after her , i was to the room ? </s>\n",
            "<s> and , no , ‘ i am , only place in , i said , the first , to they to told them for the room , and by and name would i were , and so , and me to provis , who were the low other much the , by your to and worse , and this a point rid , to the same ground fell to directed , for the lady the most lady , and the case and , an become the a -- and as the chair , for be seen for me , and\n",
            "<s> no and handed another for for the room , ” said and , for what for him round , and and shivering it. ” said my life , who took no side , by for the feet to said , because up for the man after for him were tried , and , and i did , , and he , and the the low , the case , for it. ” you , for me , and i , and were the coach and are , and the , for her , for the fire , for this your\n",
            "<s> in an dress to what , and , and , and then , and point , up , in the same early , not see , , and and him to for an great eyes and , and five to drummle , as your a arms , i for a neck , whether , for the fire to i , and try , and time , and ‘ said and , and that you been a case , and for for , when he saw him , walking , for , and , for , and up for the low\n",
            "<s> for the breath here the same windows , and took your part , and i the good and mine , that the stranger , and , and some light , and because i were for i , i knew , and the no to yourself , and worse to my could often , and looking , for an table , god , and and for me the true to , because for it took his , to myself , “ i were the the stranger , and i am i , for the appearance men in the garden , ”\n",
            "<s> the more , after first , had my corner , and wanted , -- and think nine in the man , and why , and , he , for and , for the room for , for the fire for the quite and in the same soon i had the nose , and i ought , for some an case seen the room it , the box , and that and upon us out , and the by , and for the ll fell , and for the clerk , and ; and i might say , , for a\n",
            "<s> for a habit , but the same much the for the case , and would do not love in whether i pulled , i and , i were we were your own room , gave i am the same wild until for in the part , , biddy we understood to be and in the top , and pip , , be it. to the wall , the whole windows the long , not out , as , sir the action in , and , -- the the good breaking , ” said in the new name no made to\n",
            "<s> this you , and , and to and ; i were my seat , , my sister for the the gate half and it. the great address , and for fear in the good word , and you , -- for for the tide , , sir -- and , and face walk , for an same room , and what going , and the hand , the table , for such a place , upon that a room and not , for in the life to the chap , i and miss make them , by ? ” that\n",
            "<s> if , as said in the ; to make , for the a way by street , and , because for the place , i and would hear soon , for the air , that said , for the low and her herself into some the point , and the name , for by a chair , and , and the lay , after and , and and for me between and the light , upon his thing , and , but your as for it. ” we for , for his i had went as you and the same\n",
            "<s> for , this , and , and his , and , for , “ if i said you a me to pocket for i make , for be , and , for their table , and good , and and short , -- -- ‘ be , for the time , the same , , he they were , and , i gave for the mind , and presently in the the same purpose , for ’ s i for low my throat , because it had the whole tremendous the first in the evening , and to be ,\n",
            "<s> i took the man , biddy for holding only , sir , i made the world in the life , and , for the tide the room , and were the street , after he could a , for your throat , and she , and he time for i saw his nose , , i could ever stood for i could no the wall , and for turned , , and heard the i come to street , for my the the , and the stranger , for the fire , -- , by to for an the corner\n",
            "<s> you how , for a windows into the dark , and for the the same among , and in part , for the the action , for the time , i were for some corner to and the door in the black mind him in her , and for your good , and no and the the little , had see my present , for no , , for to not for the same effect , to i for to then for the sea a object , , and to me , and , and mr. jaggers , , ma\n",
            "<s> which i and , biddy because , , and i done for your leg , not called his curious in her dismal his case to get the once , for the black nose , , as i am , for that , for the the same ways , and for my arms , sir , for for a the days and by course , for the wall , and by certainly , for the man i walked to me , and soon not my face , and for in , and hammer to up , , i am the direction\n",
            "<s> ‘ name and in the man , and , , soon , for the same quite , for what you and were to seen the life i held the chair , to be place , and you could see , “ the windows , and i been my corner , and for her down , , and we the worst , i there , and the eye the good and , the arrival , for some fell to give the face , and other to biddy the a place , in by the breakfast then by the same brewery ,\n",
            "<s> i could my life , to it. ” “ ’ s not be been place for your low way , and for , and miss an bitter , i heard to it. after my eyes , and , for a for this , and then seen them hand and the good , for a face in your head and in the time in the case , the soldiers were and it , and appeared , for , to the , and for the eyes to be as , , for , for the brewery , and , and , and\n",
            "<s> so a throat to be in an walk , for for for the fire then , and biddy , for the subject , then the arms , and to mr. , for me , to you ‘ for his out , for the corner , always the fire , and the long , while and up , and , i made that and i returned days , and yet , my feet we to be , and , , ma fell , upon me and for the same convict , for that i the a long , for i knew\n",
            "<s> i were , and and after this effect , and i left no , for the the room for me , and , were black me , and i thought and , and to wemmick to make me to calling biddy , he could be and </s>\n",
            "<s> now , for you for this the corner , pip and what grateful , and and -- for your heaven , -- and good never made , because , the word , , and you so for to the clothes in saturday , and i wemmick for , , i could and i knew stuck and by for a lady , and an for , for me , for for him and , to following in the pocket have thought i i tried a business , for some the two , and the other part -- and in the gentleman\n",
            "<s> having no , , after the the man , , and take the your case , and , or the other for camilla , and the the the tide the down , i could i heard and no , sir for them , and for for -- -- i went over the better for a long , and took a me my door for for i always to that the same present , for them this -- to say that the village , and the aged , he went , , , as i went , -- i were so\n",
            "<s> it , , for me to me , and i possibly these face , and not , for your that your one time and , and were no them , -- and had done , and and much account , until he must could find for herbert see your worse , we were for a face , dear point , and thing the most the were for the a , this the young mind , if , and , and , for seen , for ‘ , and in , to , and after the sent long , fell to\n",
            "<s> had soon and no jaggers than i i had an just , he were man , for a purpose , for life , and other the all the room , and for the i and and up to for the , and , for , and ! my ’ s , and heart , , for the bread for the room , and , the case to me for him , and in in your garden , and no the windows had an the second , -- and , for the days , and , and , for the fire\n",
            "<s> they wouldn in the man , and for the same case and ! which and again , because , and for a life and do your gentleman , and and what an time , and to an black little for a , after only to provis , and his leg , the made for the tide , and had ’ s the mind in the mind , the same gentleman them for me to looking and the place , and and the first lady , and , and to , and for that as i were , and the more\n",
            "<s> i said instead -- and to not their gentleman and eyes , rather for my occasion for them -- and not for the end , to be success , for an moment , and , for the corner you it then , and good to be mr. jaggers were life , for by once and you , and some like a by then , for the , what , for the the women , , for the monday the case , i thought well , , and it , and i heard i had after the room not and for\n",
            "<s> well , said , and the black life to make the and how me , and man to in the street , ” i am if mr. the name , in the hand , and the stranger , and for the dress , and a the lady , for , my man : and , for him and her very , and , well , the low tide , you had heard , and for myself , the -- “ the rum to i thought ! and i never , and for the gentleman , he “ “ the face\n",
            "<s> for the low , as he , and what , and worse , and for to -- to , and him i and the life , and , as i made that for only , and , , sir. ” said i and i tried , as made the clocks were my eyes back , sir ? ” said by dropped and garden in my rest and round for the poor and why , and said pip , that would have a corner and were the place , you were , because in wopsle , and try , and ,\n",
            "<s> i are in influence , for the room , and to and the man , sir , that that the interest , for a lives , i were the house , for and after the time i made the , sir , and i thought this believed , , and i should as i were done , man , poor for the air and have same as , and i gave as in her , and the box to a state for which an that the not the such the fire and the ask not , in the coach ,\n",
            "<s> i returned for the a very and the baby , for the hand , and , and the time to be and the man , for up that me , -- because , and who had , though ” , and not , for that , and seen them and pumblechook for soon , for the the same following and your white , biddy , and the thing for were long holding people another my hand , i had the other as if i have me , and and if he herself the case , for ‘ , and ,\n",
            "<s> i , i -- and for for to face , for the others , fell , and the room , and and quite , you , and has what , for the light , what the , and beat , and were feet and , and for it , , biddy , , if do it. ” said because -- , for more before the a , returned the same corner , upon my the it. </s>\n",
            "<s> for the case , you , i knew by the case to not be couldn , and , i , i ’ ll well to the , biddy in the dismal drummle , and the somebody that i did to be the same only the box , for the room , , and the same man , for and if i should no be , -- for the light , and the sent , for me and the the clerk , for them , in the preparation , love the house for the dead up his room , for your\n",
            "<s> had heard -- for , for for the other , and i believe the new a lady quite the case , ” said the burning , mr. wopsle asked to it , and the afternoon for provis into the place , who do new , the ships soon had low , and , in his room for the leg , , and another , for myself , i wouldn well were , -- which i could the last mind to the tide , for biddy and mug , to the the same , as if the same low make ,\n",
            "<s> “ your the most well , , and the white , -- for , , mr. wopsle , to you , i had been the place , ma did the said and , and following , , for , and the corner to i the poor higher , and biddy , for your other , and will , -- for i that half , if and that i were it. , ‘ -- and , could all and the sister were left -- and , and for it , the long began , and the case , and quite said\n",
            "<s> to your came , for an the for for to i , , , and , and and , according , for the ground in for , in no for back in myself , in the creature , and , and i forgotten , for either , and seen to all them sent for the man estella were the box for not the a name did , and i and by any coach by the in a wanted that , for your room well , and , and upon for you , for for the soldiers , and made a\n",
            "<s> “ for the or , said me , and a part once the word to wopsle , as a black dark to in another they thought , for me , and the daylight , and me , for the room , , and , i heard , -- for the gentleman , i ’ s , for your point again i saw by do the same fire , and the same black minute , and no were the other , and , for me , -- for the tide in the room , and the throat up , to be\n"
          ],
          "name": "stdout"
        }
      ]
    }
  ]
}