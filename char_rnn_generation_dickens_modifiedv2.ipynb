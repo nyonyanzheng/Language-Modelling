{
  "nbformat": 4,
  "nbformat_minor": 0,
  "metadata": {
    "colab": {
      "name": "char-rnn-generation-dickens-modifiedv2.ipynb",
      "version": "0.3.2",
      "provenance": [],
      "collapsed_sections": []
    },
    "kernelspec": {
      "name": "python3",
      "display_name": "Python 3"
    },
    "accelerator": "GPU"
  },
  "cells": [
    {
      "metadata": {
        "id": "fSN3y6ojecAQ",
        "colab_type": "code",
        "outputId": "2ef0554b-e184-4e99-980a-589505b78b16",
        "colab": {
          "base_uri": "https://localhost:8080/",
          "height": 34
        }
      },
      "cell_type": "code",
      "source": [
        "!pip install unidecode"
      ],
      "execution_count": 1,
      "outputs": [
        {
          "output_type": "stream",
          "text": [
            "Requirement already satisfied: unidecode in /usr/local/lib/python3.6/dist-packages (1.0.23)\n"
          ],
          "name": "stdout"
        }
      ]
    },
    {
      "metadata": {
        "id": "gu60Pq-d5c-H",
        "colab_type": "code",
        "colab": {}
      },
      "cell_type": "code",
      "source": [
        "from IPython.display import Image\n",
        "from IPython.core.display import HTML\n",
        "\n",
        "from IPython.display import clear_output"
      ],
      "execution_count": 0,
      "outputs": []
    },
    {
      "metadata": {
        "id": "idd5CuKKt4p8",
        "colab_type": "code",
        "colab": {}
      },
      "cell_type": "code",
      "source": [
        "# from google.colab import files\n",
        "# uploaded = files.upload()"
      ],
      "execution_count": 0,
      "outputs": []
    },
    {
      "metadata": {
        "id": "_RMdhSvKeLg0",
        "colab_type": "text"
      },
      "cell_type": "markdown",
      "source": [
        "# Prepare data\n",
        "\n",
        "The file we are using is a plain text file. We turn any potential unicode characters into plain ASCII by using the `unidecode` package (which you can install via `pip` or `conda`)."
      ]
    },
    {
      "metadata": {
        "id": "oQ5m7-oVeLg3",
        "colab_type": "code",
        "colab": {}
      },
      "cell_type": "code",
      "source": [
        "# import unidecode\n",
        "# import string\n",
        "# import random\n",
        "# import re\n",
        "\n",
        "# all_characters = string.printable\n",
        "# n_characters = len(all_characters)\n",
        "\n",
        "# file = unidecode.unidecode(open('all_story.txt').read())\n",
        "# file_len = len(file)\n",
        "# print('file_len =', file_len)"
      ],
      "execution_count": 0,
      "outputs": []
    },
    {
      "metadata": {
        "id": "GdtuxB0judaA",
        "colab_type": "code",
        "colab": {}
      },
      "cell_type": "code",
      "source": [
        "import random\n",
        "\n",
        "def read_file(filename): \n",
        "  text = open(filename, 'r', encoding = \"utf-8-sig\").read().splitlines()\n",
        "  text = \" \".join(text)\n",
        "  return text\n",
        "\n",
        "import string\n",
        "import unicodedata\n",
        "\n",
        "#all_characters = string.ascii_letters + string.punctuation + string.digits + \" \"\n",
        "all_characters = string.printable\n",
        "n_characters = len(all_characters)\n",
        "\n",
        "# Turn a Unicode string to plain ASCII, thanks to http://stackoverflow.com/a/518232/2809427\n",
        "def unicodeToAscii(s):\n",
        "    return ''.join(\n",
        "        c for c in unicodedata.normalize('NFD', s)\n",
        "        if unicodedata.category(c) != 'Mn'\n",
        "        and c in all_characters\n",
        "    )"
      ],
      "execution_count": 0,
      "outputs": []
    },
    {
      "metadata": {
        "id": "9djWkmhcvNL2",
        "colab_type": "code",
        "colab": {}
      },
      "cell_type": "code",
      "source": [
        "file = read_file(\"all_story.txt\")"
      ],
      "execution_count": 0,
      "outputs": []
    },
    {
      "metadata": {
        "id": "iDAva8W0vbMo",
        "colab_type": "code",
        "colab": {}
      },
      "cell_type": "code",
      "source": [
        "file = unicodeToAscii(file)\n",
        "file_len = len(file)"
      ],
      "execution_count": 0,
      "outputs": []
    },
    {
      "metadata": {
        "id": "uTmUUm98vTNf",
        "colab_type": "code",
        "outputId": "2f00caf4-1cf5-421a-cb78-51414f959ffc",
        "colab": {
          "base_uri": "https://localhost:8080/",
          "height": 34
        }
      },
      "cell_type": "code",
      "source": [
        "file_len"
      ],
      "execution_count": 8,
      "outputs": [
        {
          "output_type": "execute_result",
          "data": {
            "text/plain": [
              "23456194"
            ]
          },
          "metadata": {
            "tags": []
          },
          "execution_count": 8
        }
      ]
    },
    {
      "metadata": {
        "id": "URrn79EHeLhF",
        "colab_type": "text"
      },
      "cell_type": "markdown",
      "source": [
        "To make inputs out of this big string of data, we will be splitting it into chunks."
      ]
    },
    {
      "metadata": {
        "id": "4713a-K0eLhH",
        "colab_type": "code",
        "outputId": "4431af2e-e556-4328-ce32-d1fd5ae2a2cf",
        "colab": {
          "base_uri": "https://localhost:8080/",
          "height": 54
        }
      },
      "cell_type": "code",
      "source": [
        "chunk_len = 1000\n",
        "\n",
        "def random_chunk():\n",
        "    start_index = random.randint(0, file_len - chunk_len)\n",
        "    end_index = start_index + chunk_len + 1\n",
        "    return file[start_index:end_index]\n",
        "\n",
        "print(random_chunk())"
      ],
      "execution_count": 24,
      "outputs": [
        {
          "output_type": "stream",
          "text": [
            "nd leave him in it; others, that he should be reduced to a state of temporary insensibility, by knocking on the head; others, that he should be sworn to sit where he was until to-morrow at the same hour; others again, that he should be gagged and taken off with them, under a sufficient guard. All these propositions being overruled, it was concluded, at last, to bind him in his chair, and the word was passed for Dennis.  Lookee here, Jack! said Hugh, striding up to him: We are going to tie you, hand and foot, but otherwise you wont be hurt. Dye hear?  John Willet looked at another man, as if he didnt know which was the speaker, and muttered something about an ordinary every Sunday at two oclock.  You wont be hurt I tell you, Jack--do you hear me? roared Hugh, impressing the assurance upon him by means of a heavy blow on the back. Hes so dead scared, hes woolgathering, I think. Give him a drop of something to drink here. Hand over, one of you.  A glass of liquor being passed forward, Hugh\n"
          ],
          "name": "stdout"
        }
      ]
    },
    {
      "metadata": {
        "id": "1naM58zoeLhO",
        "colab_type": "text"
      },
      "cell_type": "markdown",
      "source": [
        "# Build the Model\n",
        "\n",
        "This model will take as input the character for step $t_{-1}$ and is expected to output the next character $t$. There are three layers - one linear layer that encodes the input character into an internal state, one GRU layer (which may itself have multiple layers) that operates on that internal state and a hidden state, and a decoder layer that outputs the probability distribution."
      ]
    },
    {
      "metadata": {
        "id": "FKWI0NgXzDkq",
        "colab_type": "code",
        "colab": {}
      },
      "cell_type": "code",
      "source": [
        "import torch\n",
        "import torch.nn as nn\n",
        "from torch.autograd import Variable\n",
        "from torch.nn import functional as F\n",
        "\n",
        "class CharRNN(nn.Module):\n",
        "    def __init__(self, input_size, hidden_size, output_size, n_layers=1, model =\"gru\"):\n",
        "        super(CharRNN, self).__init__()\n",
        "        self.model = str(model).lower()\n",
        "        self.input_size = input_size\n",
        "        self.hidden_size = hidden_size\n",
        "        self.output_size = output_size\n",
        "        self.n_layers = n_layers\n",
        "             \n",
        "        self.encoder = nn.Embedding(input_size, hidden_size)\n",
        "        if self.model == \"gru\":\n",
        "            self.rnn = nn.GRU(hidden_size, hidden_size, n_layers, dropout = 0.5)\n",
        "        elif self.model == \"lstm\":\n",
        "            self.rnn = nn.LSTM(hidden_size, hidden_size, n_layers, dropout = 0.5)\n",
        "        self.decoder = nn.Linear(hidden_size, output_size)\n",
        "\n",
        "#     def forward(self, input, hidden):\n",
        "#         batch_size = input.size(0)\n",
        "#         encoded = self.encoder(input)\n",
        "#         output, hidden = self.rnn(encoded.view(1, batch_size, -1), hidden)\n",
        "#         output = self.decoder(output.view(batch_size, -1))\n",
        "#         return output, hidden\n",
        "\n",
        "    def forward(self, input, hidden, use_softmax=False):\n",
        "        batch_size = input.size(0)\n",
        "        encoded = self.encoder(input)\n",
        "        output, hidden = self.rnn(encoded.view(1, batch_size, -1), hidden)\n",
        "        output = output.contiguous().view(batch_size, hidden_size) \n",
        "        output = F.dropout(output, 0.5)\n",
        "        output = self.decoder(output).view(batch_size, -1)\n",
        "        return (F.softmax(output,dim=2), hidden) if use_softmax else (output, hidden)\n",
        "\n",
        "    def init_hidden(self, batch_size):\n",
        "        if self.model == \"lstm\":\n",
        "            return (Variable(torch.zeros(self.n_layers, batch_size, self.hidden_size)),\n",
        "                    Variable(torch.zeros(self.n_layers, batch_size, self.hidden_size)))\n",
        "        return Variable(torch.zeros(self.n_layers, batch_size, self.hidden_size))"
      ],
      "execution_count": 0,
      "outputs": []
    },
    {
      "metadata": {
        "id": "96M7d1jvo-HW",
        "colab_type": "code",
        "colab": {
          "base_uri": "https://localhost:8080/",
          "height": 34
        },
        "outputId": "2b72cdd5-4281-4b9d-f7d1-e3d836c430c3"
      },
      "cell_type": "code",
      "source": [
        "import matplotlib.pyplot as plt\n",
        "%matplotlib inline\n",
        "\n",
        "torch.manual_seed(42)"
      ],
      "execution_count": 26,
      "outputs": [
        {
          "output_type": "execute_result",
          "data": {
            "text/plain": [
              "<torch._C.Generator at 0x7f9971d43390>"
            ]
          },
          "metadata": {
            "tags": []
          },
          "execution_count": 26
        }
      ]
    },
    {
      "metadata": {
        "id": "bk6-Z6LP19Ww",
        "colab_type": "code",
        "colab": {}
      },
      "cell_type": "code",
      "source": [
        "device = 'cuda' if torch.cuda.is_available() else 'cpu'"
      ],
      "execution_count": 0,
      "outputs": []
    },
    {
      "metadata": {
        "id": "tgpPNjYaeLhV",
        "colab_type": "text"
      },
      "cell_type": "markdown",
      "source": [
        "# Inputs and Targets"
      ]
    },
    {
      "metadata": {
        "id": "iJO9p9qgeLhW",
        "colab_type": "text"
      },
      "cell_type": "markdown",
      "source": [
        "Each chunk will be turned into a tensor, specifically a `LongTensor` (used for integer values), by looping through the characters of the string and looking up the index of each character in `all_characters`."
      ]
    },
    {
      "metadata": {
        "id": "AQ_fnWGKeLhX",
        "colab_type": "code",
        "outputId": "218084eb-8586-475b-e649-1f1d939cad9a",
        "colab": {
          "base_uri": "https://localhost:8080/",
          "height": 34
        }
      },
      "cell_type": "code",
      "source": [
        "# Turn string into list of longs\n",
        "def char_tensor(string):\n",
        "    tensor = torch.zeros(len(string)).long()\n",
        "    for c in range(len(string)):\n",
        "        tensor[c] = all_characters.index(string[c])\n",
        "    return Variable(tensor)\n",
        "\n",
        "print(char_tensor('abcDEF'))"
      ],
      "execution_count": 28,
      "outputs": [
        {
          "output_type": "stream",
          "text": [
            "tensor([10, 11, 12, 39, 40, 41])\n"
          ],
          "name": "stdout"
        }
      ]
    },
    {
      "metadata": {
        "id": "ISv-XmXteLhb",
        "colab_type": "text"
      },
      "cell_type": "markdown",
      "source": [
        "Finally we can assemble a pair of input and target tensors for training, from a random chunk. The input will be all characters *up to the last*, and the target will be all characters *from the first*. So if our chunk is \"abc\" the input will correspond to \"ab\" while the target is \"bc\"."
      ]
    },
    {
      "metadata": {
        "id": "njW2MYAP0Oky",
        "colab_type": "code",
        "colab": {}
      },
      "cell_type": "code",
      "source": [
        "def random_training_set(chunk_len, batch_size):\n",
        "    inp = torch.LongTensor(batch_size, chunk_len)\n",
        "    target = torch.LongTensor(batch_size, chunk_len)\n",
        "    for bi in range(batch_size):\n",
        "        start_index = random.randint(0, file_len - chunk_len)\n",
        "        end_index = start_index + chunk_len + 1\n",
        "        chunk = file[start_index:end_index]\n",
        "        inp[bi] = char_tensor(chunk[:-1])\n",
        "        target[bi] = char_tensor(chunk[1:])\n",
        "    inp = Variable(inp)\n",
        "    target = Variable(target)\n",
        "    if device == \"cuda\":\n",
        "        inp = inp.cuda()\n",
        "        target = target.cuda()\n",
        "    return inp, target\n"
      ],
      "execution_count": 0,
      "outputs": []
    },
    {
      "metadata": {
        "id": "nnCTCaPNv100",
        "colab_type": "text"
      },
      "cell_type": "markdown",
      "source": [
        "# **Split Test and Validation**"
      ]
    },
    {
      "metadata": {
        "id": "BB32fE0WvzH-",
        "colab_type": "code",
        "colab": {}
      },
      "cell_type": "code",
      "source": [
        ""
      ],
      "execution_count": 0,
      "outputs": []
    },
    {
      "metadata": {
        "id": "a1HKM7kseLhe",
        "colab_type": "text"
      },
      "cell_type": "markdown",
      "source": [
        "# Evaluating\n",
        "\n",
        "To evaluate the network we will feed one character at a time, use the outputs of the network as a probability distribution for the next character, and repeat. To start generation we pass a priming string to start building up the hidden state, from which we then generate one character at a time."
      ]
    },
    {
      "metadata": {
        "id": "-VlOY7ad-mnL",
        "colab_type": "code",
        "colab": {}
      },
      "cell_type": "code",
      "source": [
        "def generate(decoder, prime_str='A', predict_len=100, temperature=0.8, cuda=device):\n",
        "    hidden = decoder.init_hidden(1)\n",
        "    prime_input = Variable(char_tensor(prime_str).unsqueeze(0))\n",
        "\n",
        "    if cuda == \"cuda\":\n",
        "      prime_input = prime_input.cuda()\n",
        "      if isinstance(hidden, tuple):\n",
        "        hidden = (hidden[0].cuda(), hidden[1].cuda())\n",
        "      else: \n",
        "        hidden = hidden.cuda()\n",
        "    predicted = prime_str\n",
        "\n",
        "    # Use priming string to \"build up\" hidden state\n",
        "    for p in range(len(prime_str) - 1):\n",
        "        _, hidden = decoder(prime_input[:,p], hidden)\n",
        "        \n",
        "    inp = prime_input[:,-1]\n",
        "    \n",
        "    for p in range(predict_len):\n",
        "        output, hidden = decoder(inp, hidden)\n",
        "        \n",
        "        # Sample from the network as a multinomial distribution\n",
        "        output_dist = output.data.view(-1).div(temperature).exp()\n",
        "        top_i = torch.multinomial(output_dist, 1)[0]\n",
        "\n",
        "        # Add predicted character to string and use as next input\n",
        "        predicted_char = all_characters[top_i]\n",
        "        predicted += predicted_char\n",
        "        inp = Variable(char_tensor(predicted_char).unsqueeze(0))\n",
        "        if cuda:\n",
        "            inp = inp.cuda()\n",
        "\n",
        "    return predicted"
      ],
      "execution_count": 0,
      "outputs": []
    },
    {
      "metadata": {
        "id": "sKzO2VXreLhi",
        "colab_type": "text"
      },
      "cell_type": "markdown",
      "source": [
        "# Training"
      ]
    },
    {
      "metadata": {
        "id": "DK1wA7IkeLhj",
        "colab_type": "text"
      },
      "cell_type": "markdown",
      "source": [
        "A helper to print the amount of time passed:"
      ]
    },
    {
      "metadata": {
        "id": "WiGKkGFteLhk",
        "colab_type": "code",
        "colab": {}
      },
      "cell_type": "code",
      "source": [
        "import time, math\n",
        "\n",
        "def time_since(since):\n",
        "    s = time.time() - since\n",
        "    m = math.floor(s / 60)\n",
        "    s -= m * 60\n",
        "    return '%dm %ds' % (m, s)"
      ],
      "execution_count": 0,
      "outputs": []
    },
    {
      "metadata": {
        "id": "sNYD9ajieLhn",
        "colab_type": "text"
      },
      "cell_type": "markdown",
      "source": [
        "The main training function"
      ]
    },
    {
      "metadata": {
        "id": "IaS_zM9Q0I4s",
        "colab_type": "code",
        "colab": {}
      },
      "cell_type": "code",
      "source": [
        "def train(inp, target):\n",
        "    hidden = decoder.init_hidden(batch_size)\n",
        "    if device == \"cuda\":\n",
        "      if model == \"gru\": \n",
        "        hidden = hidden.cuda() \n",
        "      else:\n",
        "        hidden = (hidden[0].cuda(), hidden[1].cuda())\n",
        "    decoder.zero_grad()\n",
        "    loss = 0\n",
        "\n",
        "    for c in range(chunk_len):\n",
        "        output, hidden = decoder(inp[:,c], hidden)\n",
        "        loss += criterion(output.view(batch_size, -1), target[:,c])\n",
        "\n",
        "    loss.backward()\n",
        "    decoder_optimizer.step()\n",
        "\n",
        "    #return loss.data[0] / chunk_len\n",
        "    return loss.item() / chunk_len"
      ],
      "execution_count": 0,
      "outputs": []
    },
    {
      "metadata": {
        "id": "IcQa2W030sPW",
        "colab_type": "code",
        "colab": {}
      },
      "cell_type": "code",
      "source": [
        "import os \n",
        "def save():\n",
        "    save_filename = os.path.splitext(os.path.basename(filename))[0] + '.pt'\n",
        "    torch.save(decoder, save_filename)\n",
        "    print('Saved as %s' % save_filename)"
      ],
      "execution_count": 0,
      "outputs": []
    },
    {
      "metadata": {
        "id": "xtZlbfJieLhr",
        "colab_type": "text"
      },
      "cell_type": "markdown",
      "source": [
        "Then we define the training parameters, instantiate the model, and start training:"
      ]
    },
    {
      "metadata": {
        "id": "NfwHeBCR01mV",
        "colab_type": "code",
        "outputId": "b5b64326-12a9-4751-9d65-d4d453a52169",
        "colab": {
          "base_uri": "https://localhost:8080/",
          "height": 440
        }
      },
      "cell_type": "code",
      "source": [
        "model = 'gru'\n",
        "n_epochs = 200\n",
        "hidden_size = 1000\n",
        "n_layers = 2\n",
        "learning_rate = 0.005\n",
        "chunk_len = 200\n",
        "batch_size = 512\n",
        "\n",
        "filename = \"char-rnn\"\n",
        "print_every = 100\n",
        "plot_every = 10\n",
        "\n",
        "decoder = CharRNN(n_characters, hidden_size, n_characters, n_layers, model)\n",
        "decoder_optimizer = torch.optim.Adam(decoder.parameters(), lr=learning_rate)\n",
        "criterion = nn.CrossEntropyLoss()\n",
        "\n",
        "if device == \"cuda\":\n",
        "    decoder.cuda()\n",
        "\n",
        "start = time.time()\n",
        "all_losses = []\n",
        "loss_avg = 0\n",
        "\n",
        "\n",
        "try:\n",
        "    print(\"Training for %d epochs...\" % n_epochs)\n",
        "    #for epoch in tqdm(range(1, n_epochs + 1)):\n",
        "    for epoch in range(1, n_epochs + 1): \n",
        "        loss = train(*random_training_set(chunk_len, batch_size))\n",
        "        loss_avg += loss\n",
        "\n",
        "#         if epoch % print_every == 0:\n",
        "#             print('[%s (%d %d%%) %.4f]' % (time_since(start), epoch, epoch / n_epochs * 100, loss))\n",
        "#             print(generate(decoder, 'Wh', 100, cuda=device), '\\n')\n",
        "            \n",
        "        if epoch % plot_every == 0:\n",
        "          all_losses.append(loss_avg / plot_every)\n",
        "          loss_avg = 0\n",
        "          clear_output(wait=True)\n",
        "          plt.plot(all_losses)\n",
        "          plt.pause(0.05)\n",
        "          print(\"number of epochs completed:\", epoch)\n",
        "          print(\"========== generated samples ==========\")\n",
        "          print('[%s (%d %d%%) %.4f]' % (time_since(start), epoch, epoch / n_epochs * 100, loss))\n",
        "          print(generate(decoder, 'Wh', 100, cuda=device), '\\n')\n",
        "\n",
        "    print(\"Saving...\")\n",
        "    save()\n",
        "\n",
        "except KeyboardInterrupt:\n",
        "    print(\"Saving before quit...\")\n",
        "    save()\n",
        "    \n",
        "if epoch % plot_every == 0:\n",
        "        all_losses.append(loss_avg / plot_every)\n",
        "        loss_avg = 0"
      ],
      "execution_count": 34,
      "outputs": [
        {
          "output_type": "display_data",
          "data": {
            "image/png": "[encoded data removed]",
            "text/plain": [
              "<Figure size 432x288 with 1 Axes>"
            ]
          },
          "metadata": {
            "tags": []
          }
        },
        {
          "output_type": "stream",
          "text": [
            "number of epochs completed: 200\n",
            "========== generated samples ==========\n",
            "[18m 8s (200 100%) 1.6319]\n",
            "Whink of the other accontinisuut; and at the Hinge, has not hose of behings, she oust heart of the str \n",
            "\n",
            "Saving...\n",
            "Saved as char-rnn.pt\n"
          ],
          "name": "stdout"
        },
        {
          "output_type": "stream",
          "text": [
            "/usr/local/lib/python3.6/dist-packages/torch/serialization.py:251: UserWarning: Couldn't retrieve source code for container of type CharRNN. It won't be checked for correctness upon loading.\n",
            "  \"type \" + obj.__name__ + \". It won't be checked \"\n"
          ],
          "name": "stderr"
        }
      ]
    },
    {
      "metadata": {
        "id": "4Tzcu0GTeLhw",
        "colab_type": "text"
      },
      "cell_type": "markdown",
      "source": [
        "# Plotting the Training Losses\n",
        "\n",
        "Plotting the historical loss from all_losses shows the network learning:"
      ]
    },
    {
      "metadata": {
        "id": "zrFP4NNZeLhx",
        "colab_type": "code",
        "outputId": "b8138366-e63e-4903-d570-31177e36af86",
        "colab": {
          "base_uri": "https://localhost:8080/",
          "height": 282
        }
      },
      "cell_type": "code",
      "source": [
        "import matplotlib.ticker as ticker\n",
        "\n",
        "plt.figure()\n",
        "plt.plot(all_losses)"
      ],
      "execution_count": 35,
      "outputs": [
        {
          "output_type": "execute_result",
          "data": {
            "text/plain": [
              "[<matplotlib.lines.Line2D at 0x7f99701c26a0>]"
            ]
          },
          "metadata": {
            "tags": []
          },
          "execution_count": 35
        },
        {
          "output_type": "display_data",
          "data": {
            "image/png": "[encoded data removed]",
            "text/plain": [
              "<Figure size 432x288 with 1 Axes>"
            ]
          },
          "metadata": {
            "tags": []
          }
        }
      ]
    },
    {
      "metadata": {
        "id": "NkZi0HNteLh1",
        "colab_type": "text"
      },
      "cell_type": "markdown",
      "source": [
        "# Evaluating at different \"temperatures\"\n",
        "\n",
        "In the `evaluate` function above, every time a prediction is made the outputs are divided by the \"temperature\" argument passed. Using a higher number makes all actions more equally likely, and thus gives us \"more random\" outputs. Using a lower value (less than 1) makes high probabilities contribute more. As we turn the temperature towards zero we are choosing only the most likely outputs.\n",
        "\n",
        "We can see the effects of this by adjusting the `temperature` argument."
      ]
    },
    {
      "metadata": {
        "id": "nmFX1kWkeLh1",
        "colab_type": "code",
        "outputId": "4c682849-66d8-445e-f31a-bb8e629b8cff",
        "colab": {
          "base_uri": "https://localhost:8080/",
          "height": 140
        }
      },
      "cell_type": "code",
      "source": [
        "start = [\"a\", \"b\", \"c\", \"d\", \"e\", \"f\"]\n",
        "for i in start: \n",
        "  print(generate(decoder, i, predict_len=300, temperature=0.5, cuda=device))"
      ],
      "execution_count": 42,
      "outputs": [
        {
          "output_type": "stream",
          "text": [
            "and replied the faction and to a present the blight and from him of said of his hand of the old gave should shoute, that the voice of his hands to the deliined the other face in a lintener had not be a neare and dray with the way of partical on one and and winder to him in the little when in a the ha\n",
            "beer the word of the croad best and recended to the tire.  I though you must said, and heaved to the last part of a look, resideral in a stare of the seared to a tands have been the poor of his fertainer in his laughter to me all the person of the Charces.  The great to the high object to her down in\n",
            "cart and than having presone of the cather of her looking on the starder in the such a commons alrious in the worth dear to all the did for a roard of a mistration, and starty looked of post on the from the cottable so calling into the door, a man of the complemen of his lead into the course was a gr\n",
            "din to destrace, and dood it of some of many partice to house and at the lams with a molent from it was not bether the didnt of the bull and for the tium on the street was as light that he appearing in it was a windows in a prent have had an one at little genlise in the wide she dries that he had bee\n",
            "e to have been as a  tomething of it speak when she was no, in a dear to you have she had been are in the some regardments of his all that I am and the dot of the sent of the dasting him of his hands; and something at his her like them to the callet of the point of etherfarner, and Mr. Bunfully and m\n",
            "f all the streets in the most of the come with into a more of the trestion.  It was a called in a large of my dinner to be a mreath before for the sack as ming in the into the same and some upon his hands away in the strong not dair, Mr Barked to him to as it with a little complece of poor hers to ar\n"
          ],
          "name": "stdout"
        }
      ]
    },
    {
      "metadata": {
        "id": "3kqMUpV3eLh7",
        "colab_type": "text"
      },
      "cell_type": "markdown",
      "source": [
        "Lower temperatures are less varied, choosing only the more probable outputs:"
      ]
    },
    {
      "metadata": {
        "id": "fn61avTLeLh-",
        "colab_type": "code",
        "outputId": "eb99648d-b52d-4689-9d45-821ccf3de5e9",
        "colab": {
          "base_uri": "https://localhost:8080/",
          "height": 54
        }
      },
      "cell_type": "code",
      "source": [
        "print(generate(decoder, 'T', predict_len=1000, temperature=0.2, cuda=device))"
      ],
      "execution_count": 39,
      "outputs": [
        {
          "output_type": "stream",
          "text": [
            "The arm so look of the strange of anything for the severed in a light and short of the doars of the returned with a started of the same of the ofference of his considered in the ward of the present to remark and the Clent dont to the near of a contracted in the same and face of the countense of his should be and a long street to him the suppresses of a state, and all the before the little of the country of the concertion with a preches of a monters of the fires of the course of the dark and some put to the lotter of the fore and far of the letter of the paces of the the into the good of the had all the one of the streat of the state of the come of the sire and congsed the concerning of her face of the sort of the present of the common to same her of her.  The ground of it is the strong some at the concertain of the concertainly was a state of the particular of the consion of the something of its of his fance of the course of a constance, and the sure of the same of the called to the sta\n"
          ],
          "name": "stdout"
        }
      ]
    },
    {
      "metadata": {
        "id": "IEMX3C39eLiD",
        "colab_type": "text"
      },
      "cell_type": "markdown",
      "source": [
        "Higher temperatures more varied, choosing less probable outputs:"
      ]
    },
    {
      "metadata": {
        "id": "Bkh5R-xheLiD",
        "colab_type": "code",
        "outputId": "66499a52-6289-4b7f-c04f-faf1776d289b",
        "colab": {
          "base_uri": "https://localhost:8080/",
          "height": 54
        }
      },
      "cell_type": "code",
      "source": [
        "print(generate(decoder, 'Th', predict_len=200, temperature=1.4, cuda=device))"
      ],
      "execution_count": 38,
      "outputs": [
        {
          "output_type": "stream",
          "text": [
            "This telreee, whost Pardonbi, creeply was? ited titicle.  Being his liked pauched thant, age.  No nught.  cob ma! readie wirkita,, daks, require To, Nandifme chil agrocivias debo, umall knals-cngard Do,\n"
          ],
          "name": "stdout"
        }
      ]
    },
    {
      "metadata": {
        "id": "VddFLmwhSOq8",
        "colab_type": "code",
        "colab": {}
      },
      "cell_type": "code",
      "source": [
        ""
      ],
      "execution_count": 0,
      "outputs": []
    }
  ]
}